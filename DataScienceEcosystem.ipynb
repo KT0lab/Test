{
 "cells": [
  {
   "cell_type": "markdown",
   "id": "79fb62f5-8e61-4a74-b6ed-b099ea497972",
   "metadata": {},
   "source": [
    "# Data Science Tools and Ecosystem"
   ]
  },
  {
   "cell_type": "markdown",
   "id": "613adc78-c57c-4d4c-a659-dc3b2e32b20e",
   "metadata": {
    "jupyter": {
     "source_hidden": true
    }
   },
   "source": [
    "## In this notebook, Data Science Tools and Ecosystem are summarized."
   ]
  },
  {
   "cell_type": "markdown",
   "id": "691f3b54-4561-494f-b08f-875f2499ba3b",
   "metadata": {},
   "source": [
    "## Some of the popular languages that Data Scientists use are:\n",
    "1. Deep Learning\n",
    "2. Python\n",
    "3. R"
   ]
  },
  {
   "cell_type": "markdown",
   "id": "57bfb409-82c2-4ffc-b5e2-d32dd5c26360",
   "metadata": {},
   "source": [
    "## Some of the commonly used libraries used by Data Scientists include:\n",
    "1. pandas\n",
    "2. numpy\n",
    "3. Scikit-learn"
   ]
  },
  {
   "cell_type": "code",
   "execution_count": null,
   "id": "497e0d35-1a4d-4187-8303-c40b6a064ed8",
   "metadata": {},
   "outputs": [],
   "source": [
    "| Data Science Tools |\n",
    "| ---- |\n",
    "| Python |\n",
    "| R |\n",
    "| Git |"
   ]
  },
  {
   "cell_type": "markdown",
   "id": "32ad5d3f-5d93-4e2f-b3b0-03e8c302c896",
   "metadata": {},
   "source": [
    "### Below are a few examples of evaluating arithmetic expressions in Python"
   ]
  },
  {
   "cell_type": "code",
   "execution_count": 7,
   "id": "9df54107-ed19-4dbf-8a36-674bc7277d17",
   "metadata": {},
   "outputs": [
    {
     "data": {
      "text/plain": [
       "17"
      ]
     },
     "execution_count": 7,
     "metadata": {},
     "output_type": "execute_result"
    }
   ],
   "source": [
    "#This a simple arithmetic expression to mutiply then add integers\n",
    "(3*4)+5"
   ]
  },
  {
   "cell_type": "code",
   "execution_count": 9,
   "id": "3c88d884-2820-477e-b614-23bb56950ca3",
   "metadata": {},
   "outputs": [
    {
     "data": {
      "text/plain": [
       "3.3333333333333335"
      ]
     },
     "execution_count": 9,
     "metadata": {},
     "output_type": "execute_result"
    }
   ],
   "source": [
    "#This will convert 200 minutes to hours by diving by 60\n",
    "200/60"
   ]
  },
  {
   "cell_type": "markdown",
   "id": "9a2aa67c-ba00-444d-b0f9-e7a44d00853e",
   "metadata": {},
   "source": [
    "**Objectives:**\n",
    "- Deep Learning\n",
    "- Python\n",
    "- R"
   ]
  },
  {
   "cell_type": "markdown",
   "id": "12a8cefe-fa12-49c9-b531-b45f29bd0d0d",
   "metadata": {},
   "source": [
    "## Author\n",
    "Kenta Tamaru"
   ]
  }
 ],
 "metadata": {
  "kernelspec": {
   "display_name": "Python 3 (ipykernel)",
   "language": "python",
   "name": "python3"
  },
  "language_info": {
   "codemirror_mode": {
    "name": "ipython",
    "version": 3
   },
   "file_extension": ".py",
   "mimetype": "text/x-python",
   "name": "python",
   "nbconvert_exporter": "python",
   "pygments_lexer": "ipython3",
   "version": "3.12.7"
  }
 },
 "nbformat": 4,
 "nbformat_minor": 5
}
